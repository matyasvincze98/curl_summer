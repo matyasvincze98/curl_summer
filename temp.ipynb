{
 "cells": [
  {
   "cell_type": "code",
   "execution_count": 2,
   "source": [
    "!python -m pip install absl-py==0.8.0\r\n",
    "!python -m pip install dm-sonnet==1.35\r\n",
    "!python -m pip install gast==0.2\r\n",
    "!python -m pip install numpy==1.16.4\r\n",
    "!python -m pip install scikit-learn==0.20.4\r\n",
    "!python -m pip install setuptools\r\n",
    "!python -m pip install six==1.12.0\r\n",
    "!python -m python -m pip install tensorflow==1.14.0\r\n",
    "!python -m pip install tensorflow-datasets==1.2.0\r\n",
    "!python -m pip install tensorflow-probability==0.7.0\r\n",
    "!python -m pip install pandas\r\n",
    "!python -m pip install matplotlib\r\n",
    "!python -m pip install pickle\r\n",
    "\r\n",
    "import pickle\r\n",
    "import numpy as np\r\n",
    "import training"
   ],
   "outputs": [
    {
     "output_type": "stream",
     "name": "stderr",
     "text": [
      "'python3.7' is not recognized as an internal or external command,\n",
      "operable program or batch file.\n"
     ]
    },
    {
     "output_type": "stream",
     "name": "stdout",
     "text": [
      "Requirement already satisfied: dm-sonnet==1.35 in c:\\programdata\\anaconda3\\lib\\site-packages (1.35)\n",
      "Requirement already satisfied: contextlib2 in c:\\programdata\\anaconda3\\lib\\site-packages (from dm-sonnet==1.35) (0.6.0)\n",
      "Requirement already satisfied: tensorflow-probability>=0.6.0 in c:\\programdata\\anaconda3\\lib\\site-packages (from dm-sonnet==1.35) (0.7.0)\n",
      "Requirement already satisfied: wrapt in c:\\programdata\\anaconda3\\lib\\site-packages (from dm-sonnet==1.35) (1.11.2)\n",
      "Requirement already satisfied: semantic-version in c:\\programdata\\anaconda3\\lib\\site-packages (from dm-sonnet==1.35) (2.8.5)\n",
      "Requirement already satisfied: absl-py in c:\\programdata\\anaconda3\\lib\\site-packages (from dm-sonnet==1.35) (0.8.0)\n",
      "Requirement already satisfied: six in c:\\programdata\\anaconda3\\lib\\site-packages (from dm-sonnet==1.35) (1.12.0)\n",
      "Requirement already satisfied: cloudpickle>=0.6.1 in c:\\programdata\\anaconda3\\lib\\site-packages (from tensorflow-probability>=0.6.0->dm-sonnet==1.35) (1.2.2)\n",
      "Requirement already satisfied: decorator in c:\\programdata\\anaconda3\\lib\\site-packages (from tensorflow-probability>=0.6.0->dm-sonnet==1.35) (4.4.0)\n",
      "Requirement already satisfied: numpy>=1.13.3 in c:\\programdata\\anaconda3\\lib\\site-packages (from tensorflow-probability>=0.6.0->dm-sonnet==1.35) (1.16.5)\n"
     ]
    },
    {
     "output_type": "stream",
     "name": "stderr",
     "text": [
      "WARNING: You are using pip version 20.0.2; however, version 21.2.4 is available.\n",
      "You should consider upgrading via the 'C:\\ProgramData\\Anaconda3\\python.exe -m pip install --upgrade pip' command.\n"
     ]
    },
    {
     "output_type": "stream",
     "name": "stdout",
     "text": [
      "^C\n",
      "Collecting numpy==1.16.4\n",
      "  Using cached numpy-1.16.4-cp37-cp37m-win_amd64.whl (11.9 MB)\n",
      "Installing collected packages: numpy\n",
      "  Attempting uninstall: numpy\n",
      "    Found existing installation: numpy 1.16.5\n",
      "    Uninstalling numpy-1.16.5:\n"
     ]
    },
    {
     "output_type": "stream",
     "name": "stderr",
     "text": [
      "ERROR: tensorflow 1.15.0 has requirement gast==0.2.2, but you'll have gast 0.2.0 which is incompatible.\n",
      "ERROR: Could not install packages due to an EnvironmentError: [WinError 5] Access is denied: 'c:\\\\programdata\\\\anaconda3\\\\lib\\\\site-packages\\\\numpy\\\\compat\\\\py3k.py'\n",
      "Consider using the `--user` option or check the permissions.\n",
      "\n",
      "WARNING: You are using pip version 20.0.2; however, version 21.2.4 is available.\n",
      "You should consider upgrading via the 'C:\\ProgramData\\Anaconda3\\python.exe -m pip install --upgrade pip' command.\n"
     ]
    },
    {
     "output_type": "stream",
     "name": "stdout",
     "text": [
      "Collecting scikit-learn==0.20.4\n",
      "  Using cached scikit_learn-0.20.4-cp37-cp37m-win_amd64.whl (4.8 MB)\n",
      "Requirement already satisfied: numpy>=1.8.2 in c:\\programdata\\anaconda3\\lib\\site-packages (from scikit-learn==0.20.4) (1.16.5)\n",
      "Requirement already satisfied: scipy>=0.13.3 in c:\\users\\matya\\appdata\\roaming\\python\\python37\\site-packages (from scikit-learn==0.20.4) (1.4.1)\n",
      "Installing collected packages: scikit-learn\n",
      "  Attempting uninstall: scikit-learn\n",
      "    Found existing installation: scikit-learn 0.21.3\n",
      "    Uninstalling scikit-learn-0.21.3:\n"
     ]
    },
    {
     "output_type": "stream",
     "name": "stderr",
     "text": [
      "ERROR: Could not install packages due to an EnvironmentError: [WinError 5] Access is denied: 'c:\\\\programdata\\\\anaconda3\\\\lib\\\\site-packages\\\\scikit_learn-0.21.3.dist-info\\\\COPYING'\n",
      "Consider using the `--user` option or check the permissions.\n",
      "\n",
      "WARNING: You are using pip version 20.0.2; however, version 21.2.4 is available.\n",
      "You should consider upgrading via the 'C:\\ProgramData\\Anaconda3\\python.exe -m pip install --upgrade pip' command.\n"
     ]
    },
    {
     "output_type": "stream",
     "name": "stdout",
     "text": [
      "Requirement already satisfied: setuptools in c:\\users\\matya\\appdata\\roaming\\python\\python37\\site-packages (45.2.0)\n"
     ]
    },
    {
     "output_type": "stream",
     "name": "stderr",
     "text": [
      "WARNING: You are using pip version 20.0.2; however, version 21.2.4 is available.\n",
      "You should consider upgrading via the 'C:\\ProgramData\\Anaconda3\\python.exe -m pip install --upgrade pip' command.\n"
     ]
    }
   ],
   "metadata": {}
  },
  {
   "cell_type": "code",
   "execution_count": 11,
   "source": [
    "run_training_params = {'dataset': 'textures',\r\n",
    "                             'dataset_params': {'batch_size': 128, 'test_batch_size': 128, 'train_every': 2, 'test_every': 1, 'crop_dim': 40, \r\n",
    "                                                'path': 'fakelabeled_natural_commonfiltered_640000_40px.pkl', 'offset': 0.0}, \r\n",
    "                             'n_steps': 0, 'random_seed': None, 'lr_init': 0.001, 'lr_factor': 1.0, 'lr_schedule': [1], \r\n",
    "                             'output_type': 'normal', 'output_sd': 0.4, 'n_y': 20, 'n_y_samples': 1, 'n_y_samples_reconstr': 1, 'n_z': 1300, \r\n",
    "                             'beta_y_evo': 1.0, 'beta_z_evo': 1.0, \r\n",
    "                             'encoder_kwargs': {'encoder_type': 'mlp', 'n_enc': [1400], 'enc_strides': [1]}, \r\n",
    "                             'cluster_encoder_kwargs': {'encoder_type': 'mlp', 'n_enc': [1000, 600, 200]}, \r\n",
    "                             'latent_y_to_concat_encoder_kwargs': {'y_to_concat_encoder_type': 'mlp', 'y_to_concat_n_enc': [200, 600, 1000, 1400]}, \r\n",
    "                             'latent_concat_to_z_encoder_kwargs': {'concat_to_z_encoder_type': 'mlp', 'concat_to_z_n_enc': []}, \r\n",
    "                             'l2_lambda_w': 0.001, 'l2_lambda_b': 0.001, \r\n",
    "                             'decoder_kwargs': {'decoder_type': 'mlp', 'n_dec': [], 'dec_up_strides': None},\r\n",
    "                             'latent_decoder_kwargs': {'decoder_type': 'mlp', 'n_dec': [200, 600, 1000, 1400]}, \r\n",
    "                             'z1_distr_kwargs': {'distr': 'laplace', 'sigma_nonlin': 'exp', 'sigma_param': 'var'}, \r\n",
    "                             'z2_distr_kwargs': {'distr': 'normal', 'sigma_nonlin': 'exp', 'sigma_param': 'var'}, \r\n",
    "                             'report_interval': 250000, 'save_dir': None, \r\n",
    "                             'restore_from': 'mycurl-7500000', 'tb_dir': None}"
   ],
   "outputs": [],
   "metadata": {}
  },
  {
   "cell_type": "code",
   "execution_count": 12,
   "source": [
    "bs = run_training_params['dataset_params']['batch_size']\r\n",
    "crop_dim = run_training_params['dataset_params']['crop_dim']\r\n",
    "train_every = run_training_params['dataset_params']['train_every']\r\n",
    "test_every = run_training_params['dataset_params']['test_every']\r\n",
    "\r\n",
    "train_data = pickle.load(open(run_training_params['dataset_params']['path'], 'rb'))\r\n",
    "\r\n",
    "n_px = int(np.sqrt(train_data['train_images'].shape[1]))\r\n",
    "\r\n",
    "train_data['train_images'] = train_data['train_images'].reshape((-1,n_px,n_px))[::train_every,:crop_dim,:crop_dim].reshape((-1,crop_dim**2))\r\n",
    "train_data['train_labels'] = train_data['train_labels'][::train_every]\r\n",
    "train_data['test_images'] = train_data['test_images'].reshape((-1,n_px,n_px))[::test_every,:crop_dim,:crop_dim].reshape((-1,crop_dim**2))\r\n",
    "train_data['test_labels'] = train_data['test_labels'][::test_every]"
   ],
   "outputs": [],
   "metadata": {}
  },
  {
   "cell_type": "code",
   "execution_count": 14,
   "source": [
    "train_eval_ops, test_eval_ops, sess, params, saver = training.run_training(**run_training_params)"
   ],
   "outputs": [
    {
     "output_type": "error",
     "ename": "NameError",
     "evalue": "name 'training' is not defined",
     "traceback": [
      "\u001b[1;31m---------------------------------------------------------------------------\u001b[0m",
      "\u001b[1;31mNameError\u001b[0m                                 Traceback (most recent call last)",
      "\u001b[1;32m~\\AppData\\Local\\Temp/ipykernel_21240/2465988040.py\u001b[0m in \u001b[0;36m<module>\u001b[1;34m\u001b[0m\n\u001b[1;32m----> 1\u001b[1;33m \u001b[0mtrain_eval_ops\u001b[0m\u001b[1;33m,\u001b[0m \u001b[0mtest_eval_ops\u001b[0m\u001b[1;33m,\u001b[0m \u001b[0msess\u001b[0m\u001b[1;33m,\u001b[0m \u001b[0mparams\u001b[0m\u001b[1;33m,\u001b[0m \u001b[0msaver\u001b[0m \u001b[1;33m=\u001b[0m \u001b[0mtraining\u001b[0m\u001b[1;33m.\u001b[0m\u001b[0mrun_training\u001b[0m\u001b[1;33m(\u001b[0m\u001b[1;33m**\u001b[0m\u001b[0mrun_training_params\u001b[0m\u001b[1;33m)\u001b[0m\u001b[1;33m\u001b[0m\u001b[1;33m\u001b[0m\u001b[0m\n\u001b[0m",
      "\u001b[1;31mNameError\u001b[0m: name 'training' is not defined"
     ]
    }
   ],
   "metadata": {}
  },
  {
   "cell_type": "code",
   "execution_count": null,
   "source": [],
   "outputs": [],
   "metadata": {}
  }
 ],
 "metadata": {
  "orig_nbformat": 4,
  "language_info": {
   "name": "python",
   "version": "3.7.4",
   "mimetype": "text/x-python",
   "codemirror_mode": {
    "name": "ipython",
    "version": 3
   },
   "pygments_lexer": "ipython3",
   "nbconvert_exporter": "python",
   "file_extension": ".py"
  },
  "kernelspec": {
   "name": "python3",
   "display_name": "Python 3.7.4 64-bit ('base': conda)"
  },
  "interpreter": {
   "hash": "b3ba2566441a7c06988d0923437866b63cedc61552a5af99d1f4fb67d367b25f"
  }
 },
 "nbformat": 4,
 "nbformat_minor": 2
}